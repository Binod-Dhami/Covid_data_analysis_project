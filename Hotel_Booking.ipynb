{
 "cells": [
  {
   "cell_type": "code",
   "execution_count": null,
   "id": "af3217e6-1719-4caf-95a3-994b3c199a6d",
   "metadata": {},
   "outputs": [],
   "source": [
    "#DATA ANALYSIS PROJECT STEPS\n",
    "#creat a problem statemant \n",
    "#identify the data you want to analyis\n",
    "#explore and clean the data\n",
    "#analysis the data to get useful insights\n",
    "#present the data in terms of report or dashboard using visualization"
   ]
  },
  {
   "cell_type": "code",
   "execution_count": null,
   "id": "d53fdbd8-b0ae-4e3b-a0ac-040cabf4b818",
   "metadata": {},
   "outputs": [],
   "source": [
    "#Business problem\n"
   ]
  },
  {
   "cell_type": "code",
   "execution_count": null,
   "id": "dc74fad1-5d84-43eb-85bf-ac50861701c7",
   "metadata": {},
   "outputs": [],
   "source": [
    "import pandas as pd\n",
    "import numpy as np"
   ]
  }
 ],
 "metadata": {
  "kernelspec": {
   "display_name": "Python 3 (ipykernel)",
   "language": "python",
   "name": "python3"
  },
  "language_info": {
   "codemirror_mode": {
    "name": "ipython",
    "version": 3
   },
   "file_extension": ".py",
   "mimetype": "text/x-python",
   "name": "python",
   "nbconvert_exporter": "python",
   "pygments_lexer": "ipython3",
   "version": "3.11.0"
  }
 },
 "nbformat": 4,
 "nbformat_minor": 5
}
